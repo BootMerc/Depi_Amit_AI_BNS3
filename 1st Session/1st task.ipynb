{
 "cells": [
  {
   "cell_type": "code",
   "execution_count": 1,
   "id": "82ff8d56",
   "metadata": {},
   "outputs": [],
   "source": [
    "encoded_message = \"###!!@mocleW EPGTQ!!!6789\""
   ]
  },
  {
   "cell_type": "code",
   "execution_count": null,
   "id": "f717e9f2",
   "metadata": {},
   "outputs": [
    {
     "name": "stdout",
     "output_type": "stream",
     "text": [
      "Core message after cutting: \"mocleW EPGTQ\"\n"
     ]
    }
   ],
   "source": [
    "# first, remove the unwanted starting and ending characters\n",
    "core_message = encoded_message[6:-7]  \n",
    "print(f'Core message after cutting: \"{core_message}\"')"
   ]
  },
  {
   "cell_type": "code",
   "execution_count": null,
   "id": "b619adad",
   "metadata": {},
   "outputs": [
    {
     "name": "stdout",
     "output_type": "stream",
     "text": [
      "Split words: ['mocleW', 'EPGTQ']\n"
     ]
    }
   ],
   "source": [
    "# second, split the message into two words\n",
    "wanted_words = core_message.split()  \n",
    "print(f'Split words: {wanted_words}')"
   ]
  },
  {
   "cell_type": "code",
   "execution_count": 4,
   "id": "2b6dcf70",
   "metadata": {},
   "outputs": [
    {
     "name": "stdout",
     "output_type": "stream",
     "text": [
      "Reversed first word: \"Welcome\"\n",
      "Second word after removing first character: \"PGTQ\"\n"
     ]
    }
   ],
   "source": [
    "# third, reverse the first word and remove the first character of the second word\n",
    "first_word = wanted_words[0][::-1] + \"e\"     \n",
    "second_word = wanted_words[1][1:]\n",
    "print(f'Reversed first word: \"{first_word}\"')\n",
    "print(f'Second word after removing first character: \"{second_word}\"')         "
   ]
  },
  {
   "cell_type": "code",
   "execution_count": 5,
   "id": "9cdd341c",
   "metadata": {},
   "outputs": [
    {
     "name": "stdout",
     "output_type": "stream",
     "text": [
      "Final decoded message: \"Welcome PGTQ\"\n"
     ]
    }
   ],
   "source": [
    "# fourth, concatenate the two words\n",
    "decoded_message = first_word + \" \" + second_word\n",
    "print(f'Final decoded message: \"{decoded_message}\"')"
   ]
  },
  {
   "cell_type": "code",
   "execution_count": null,
   "id": "a26c2ffa",
   "metadata": {},
   "outputs": [],
   "source": []
  }
 ],
 "metadata": {
  "kernelspec": {
   "display_name": "Python 3",
   "language": "python",
   "name": "python3"
  },
  "language_info": {
   "codemirror_mode": {
    "name": "ipython",
    "version": 3
   },
   "file_extension": ".py",
   "mimetype": "text/x-python",
   "name": "python",
   "nbconvert_exporter": "python",
   "pygments_lexer": "ipython3",
   "version": "3.12.2"
  }
 },
 "nbformat": 4,
 "nbformat_minor": 5
}
