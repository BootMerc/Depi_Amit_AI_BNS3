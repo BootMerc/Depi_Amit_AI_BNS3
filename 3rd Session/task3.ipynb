{
 "cells": [
  {
   "cell_type": "code",
   "execution_count": 1,
   "id": "11a94890",
   "metadata": {},
   "outputs": [
    {
     "name": "stdout",
     "output_type": "stream",
     "text": [
      "\n",
      "Multiplication Table for 3:\n",
      "\n",
      "3 x 1 = 3\n",
      "3 x 2 = 6\n",
      "3 x 3 = 9\n",
      "3 x 4 = 12\n",
      "3 x 5 = 15\n",
      "3 x 6 = 18\n",
      "3 x 7 = 21\n",
      "3 x 8 = 24\n",
      "3 x 9 = 27\n",
      "3 x 10 = 30\n"
     ]
    }
   ],
   "source": [
    "def multiplication_table():\n",
    "        num = int(input(\"Enter a number: \"))\n",
    "        print(f\"\\nMultiplication Table for {num}:\\n\")\n",
    "        for i in range(1, 11):\n",
    "            print(f\"{num} x {i} = {num * i}\")\n",
    "multiplication_table()"
   ]
  },
  {
   "cell_type": "code",
   "execution_count": 2,
   "id": "e397b97b",
   "metadata": {},
   "outputs": [
    {
     "name": "stdout",
     "output_type": "stream",
     "text": [
      "Twin primes les than 1000\n",
      "\n",
      "3, 5\n",
      "5, 7\n",
      "11, 13\n",
      "17, 19\n",
      "29, 31\n",
      "41, 43\n",
      "59, 61\n",
      "71, 73\n",
      "101, 103\n",
      "107, 109\n",
      "137, 139\n",
      "149, 151\n",
      "179, 181\n",
      "191, 193\n",
      "197, 199\n",
      "227, 229\n",
      "239, 241\n",
      "269, 271\n",
      "281, 283\n",
      "311, 313\n",
      "347, 349\n",
      "419, 421\n",
      "431, 433\n",
      "461, 463\n",
      "521, 523\n",
      "569, 571\n",
      "599, 601\n",
      "617, 619\n",
      "641, 643\n",
      "659, 661\n",
      "809, 811\n",
      "821, 823\n",
      "827, 829\n",
      "857, 859\n",
      "881, 883\n"
     ]
    }
   ],
   "source": [
    "def prime(n):\n",
    "    if n < 2:\n",
    "        return False\n",
    "    for i in range(2, int(n**0.5) + 1):\n",
    "        if n % i == 0:\n",
    "            return False\n",
    "    return True\n",
    "\n",
    "print(\"Twin primes les than 1000\\n\")\n",
    "for i in range(2, 1000):\n",
    "    if prime(i) and prime(i + 2) and i + 2 < 1000:\n",
    "        print(f\"{i}, {i + 2}\")"
   ]
  },
  {
   "cell_type": "code",
   "execution_count": 5,
   "id": "cbf472a3",
   "metadata": {},
   "outputs": [
    {
     "name": "stdout",
     "output_type": "stream",
     "text": [
      "Prime factors of 15 are:\n",
      "3\n",
      "5\n"
     ]
    }
   ],
   "source": [
    "\n",
    "def prime_factors(n):\n",
    "    print(f\"Prime factors of {n} are:\")\n",
    "    for i in range(2, n + 1):\n",
    "        while n % i == 0:\n",
    "            print(i)\n",
    "            n = n // i\n",
    "number = int(input(\"Enter a number: \"))\n",
    "prime_factors(number)"
   ]
  },
  {
   "cell_type": "code",
   "execution_count": 6,
   "id": "81515add",
   "metadata": {},
   "outputs": [
    {
     "name": "stdout",
     "output_type": "stream",
     "text": [
      "Binary: 110\n"
     ]
    }
   ],
   "source": [
    "def decimal_to_binary(decimal_num):\n",
    "    binary = \"\"\n",
    "    while decimal_num > 0:\n",
    "        binary = str(decimal_num % 2) + binary\n",
    "        decimal_num = decimal_num // 2\n",
    "    return binary\n",
    "number = int(input(\"Enter a decimal number: \"))\n",
    "result = decimal_to_binary(number)\n",
    "print(f\"Binary: {result}\")"
   ]
  },
  {
   "cell_type": "code",
   "execution_count": 8,
   "id": "1d73698e",
   "metadata": {},
   "outputs": [
    {
     "name": "stdout",
     "output_type": "stream",
     "text": [
      "\n",
      "Perfect numbers between 1 and 50 are:\n",
      "6\n",
      "28\n"
     ]
    }
   ],
   "source": [
    "def is_perfect(n):\n",
    "    total = 0\n",
    "    for i in range(1, n):\n",
    "        if n % i == 0:\n",
    "            total += i\n",
    "    return total == n\n",
    "start = int(input(\"Enter start of range: \"))\n",
    "end = int(input(\"Enter end of range: \"))\n",
    "\n",
    "print(f\"\\nPerfect numbers between {start} and {end} are:\")\n",
    "for num in range(start, end + 1):\n",
    "    if is_perfect(num):\n",
    "        print(num)\n"
   ]
  },
  {
   "cell_type": "code",
   "execution_count": null,
   "id": "1798fde9",
   "metadata": {},
   "outputs": [],
   "source": []
  }
 ],
 "metadata": {
  "kernelspec": {
   "display_name": "Python 3",
   "language": "python",
   "name": "python3"
  },
  "language_info": {
   "codemirror_mode": {
    "name": "ipython",
    "version": 3
   },
   "file_extension": ".py",
   "mimetype": "text/x-python",
   "name": "python",
   "nbconvert_exporter": "python",
   "pygments_lexer": "ipython3",
   "version": "3.12.2"
  }
 },
 "nbformat": 4,
 "nbformat_minor": 5
}
