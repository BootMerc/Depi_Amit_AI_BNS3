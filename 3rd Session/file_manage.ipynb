{
 "cells": [
  {
   "cell_type": "code",
   "execution_count": 14,
   "id": "4f5b72c2",
   "metadata": {},
   "outputs": [],
   "source": [
    "import os \n",
    "import random"
   ]
  },
  {
   "cell_type": "code",
   "execution_count": 1,
   "id": "7c18eb5f",
   "metadata": {},
   "outputs": [],
   "source": [
    "def open_or_create_folder(folder_name):\n",
    "    \"\"\"\n",
    "    Open or create a folder by the given name.\n",
    "\n",
    "    :param folder_name: Name of the folder to open or create.\n",
    "    :type folder_name: str\n",
    "\n",
    "    :return: The path to the created or opened folder.\n",
    "    :rtype: str\n",
    "    \"\"\"\n",
    "    import os \n",
    "    if not os.path.exists(folder_name):\n",
    "        os.makedirs(folder_name)\n",
    "    return folder_name "
   ]
  },
  {
   "cell_type": "code",
   "execution_count": 3,
   "id": "61568885",
   "metadata": {},
   "outputs": [
    {
     "name": "stdout",
     "output_type": "stream",
     "text": [
      "Folder 'test_folder' is ready for use.\n",
      "Folder path is: test_folder\n"
     ]
    }
   ],
   "source": [
    "folder_path = open_or_create_folder(\"test_folder\") # Call the function to open or create the folder\n",
    "print(f\"Folder '{folder_path}' is ready for use.\") # Print confirmation message\n",
    "print(\"Folder path is:\", folder_path) # Print the path of the folder"
   ]
  },
  {
   "cell_type": "code",
   "execution_count": 10,
   "id": "fb6807cc",
   "metadata": {},
   "outputs": [],
   "source": [
    "def create_files_in_folder(folder_name, number_of_files):\n",
    "    \"\"\"\n",
    "    Create a number of empty text files inside the given folder.\n",
    "    :param folder_name: The name of the folder where files will be created.\n",
    "    :type folder_name: str\n",
    "    :param number_of_files: How many files to create.\n",
    "    :type number_of_files: int\n",
    "    :return: A list of the created file names.\n",
    "    :rtype: list\n",
    "    \"\"\"\n",
    "    created_files = [] \n",
    "    for i in range(1, number_of_files + 1): \n",
    "        file_name = f\"file_{i}.txt\"\n",
    "        file_path = os.path.join(folder_name, file_name) # Construct the full file path\n",
    "        with open(file_path, 'w') as f: # Open the file in write mode\n",
    "            f.write(f\"This is file number {i}\") # Write a simple message to the file\n",
    "        created_files.append(file_name) # Append the created file name to the list\n",
    "    \n",
    "    return created_files # Return the list of created file names"
   ]
  },
  {
   "cell_type": "code",
   "execution_count": 11,
   "id": "bc7f7a11",
   "metadata": {},
   "outputs": [
    {
     "name": "stdout",
     "output_type": "stream",
     "text": [
      "Created files: ['file_1.txt', 'file_2.txt', 'file_3.txt', 'file_4.txt', 'file_5.txt', 'file_6.txt', 'file_7.txt', 'file_8.txt', 'file_9.txt', 'file_10.txt']\n"
     ]
    }
   ],
   "source": [
    "created = create_files_in_folder(folder_path, 10) # Call the function to create 10 files in the specified folder\n",
    "print(f\"Created files: {created}\") # Print the list of created files"
   ]
  },
  {
   "cell_type": "code",
   "execution_count": 12,
   "id": "9b8316f1",
   "metadata": {},
   "outputs": [],
   "source": [
    "def count_files_in_folder(folder_name):\n",
    "    \"\"\"\n",
    "    Count how many files are currently in the given folder.\n",
    "    :param folder_name: The name of the folder to check.\n",
    "    :type folder_name: str\n",
    "    :return: The number of files in the folder.\n",
    "    :rtype: int\n",
    "    \"\"\"\n",
    "    files = [f for f in os.listdir(folder_name) if os.path.isfile(os.path.join(folder_name, f))]\n",
    "    return len(files)"
   ]
  },
  {
   "cell_type": "code",
   "execution_count": 13,
   "id": "5ed88606",
   "metadata": {},
   "outputs": [
    {
     "name": "stdout",
     "output_type": "stream",
     "text": [
      "There are 10 files in the folder 'test_folder'.\n"
     ]
    }
   ],
   "source": [
    "num_files = count_files_in_folder(folder_path)\n",
    "print(f\"There are {num_files} files in the folder '{folder_path}'.\")"
   ]
  },
  {
   "cell_type": "code",
   "execution_count": 15,
   "id": "3aef9475",
   "metadata": {},
   "outputs": [],
   "source": [
    "# function to delete random half of the files inside the folder\n",
    "# This function deletes a random half of the files in the specified folder\n",
    "def delete_random_half(folder_name):\n",
    "    \"\"\"\n",
    "    Delete random half of the files inside the folder.\n",
    "    :param folder_name: The name of the folder to clean up.\n",
    "    :type folder_name: str\n",
    "    :return: A list of deleted file names.\n",
    "    :rtype: list\n",
    "    \"\"\"\n",
    "    files = [f for f in os.listdir(folder_name) if os.path.isfile(os.path.join(folder_name, f))]\n",
    "    half = len(files) // 2\n",
    "    to_delete = random.sample(files, half)\n",
    "\n",
    "    for f in to_delete: \n",
    "        os.remove(os.path.join(folder_name, f))\n",
    "    return to_delete "
   ]
  },
  {
   "cell_type": "code",
   "execution_count": 16,
   "id": "659b78b3",
   "metadata": {},
   "outputs": [
    {
     "name": "stdout",
     "output_type": "stream",
     "text": [
      "Deleted files: ['file_3.txt', 'file_5.txt', 'file_8.txt', 'file_1.txt', 'file_10.txt']\n"
     ]
    }
   ],
   "source": [
    "deleted_files = delete_random_half(folder_path)\n",
    "print(f\"Deleted files: {deleted_files}\")"
   ]
  },
  {
   "cell_type": "code",
   "execution_count": null,
   "id": "b0fb9bd7",
   "metadata": {},
   "outputs": [],
   "source": []
  },
  {
   "cell_type": "code",
   "execution_count": null,
   "id": "ffa5ee50",
   "metadata": {},
   "outputs": [],
   "source": []
  }
 ],
 "metadata": {
  "kernelspec": {
   "display_name": "Python 3",
   "language": "python",
   "name": "python3"
  },
  "language_info": {
   "codemirror_mode": {
    "name": "ipython",
    "version": 3
   },
   "file_extension": ".py",
   "mimetype": "text/x-python",
   "name": "python",
   "nbconvert_exporter": "python",
   "pygments_lexer": "ipython3",
   "version": "3.12.2"
  }
 },
 "nbformat": 4,
 "nbformat_minor": 5
}
