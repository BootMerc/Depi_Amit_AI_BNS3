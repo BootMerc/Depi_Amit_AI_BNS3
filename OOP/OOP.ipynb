{
 "cells": [
  {
   "cell_type": "code",
   "execution_count": 2,
   "id": "6b391534",
   "metadata": {},
   "outputs": [
    {
     "name": "stdout",
     "output_type": "stream",
     "text": [
      "Hello MR Ziad mohamed shaker\n",
      "Your age now is: 21\n"
     ]
    }
   ],
   "source": [
    "def get_user_name():\n",
    "    \"\"\"Prompt user for personal details and print a greeting with age.\"\"\"\n",
    "    \n",
    "    gender_titles = {\n",
    "        \"Male\": \"MR\",\n",
    "        \"Female\": \"MS\"\n",
    "    }\n",
    "    \n",
    "    f_name = input(\"What is your first name? \")\n",
    "    m_name = input(\"What is your middle name? \")\n",
    "    l_name = input(\"What is your last name? \")\n",
    "    user_gender = input(\"Please enter your gender (Male/Female): \")\n",
    "    year_of_birth = int(input(\"Enter your year of birth: \"))\n",
    "    current_year = int(input(\"Enter the current year: \"))\n",
    "    \n",
    "    age = current_year - year_of_birth\n",
    "    user_gender_title = gender_titles.get(user_gender, \"Unknown\")\n",
    "    \n",
    "    print(f\"Hello {user_gender_title} {f_name} {m_name} {l_name}\")\n",
    "    print(f\"Your age now is: {age}\")\n",
    "\n",
    "\n",
    "get_user_name()"
   ]
  },
  {
   "cell_type": "code",
   "execution_count": null,
   "id": "adf72ee7",
   "metadata": {},
   "outputs": [],
   "source": []
  },
  {
   "cell_type": "code",
   "execution_count": null,
   "id": "2554bc95",
   "metadata": {},
   "outputs": [],
   "source": []
  }
 ],
 "metadata": {
  "kernelspec": {
   "display_name": "Python 3",
   "language": "python",
   "name": "python3"
  },
  "language_info": {
   "codemirror_mode": {
    "name": "ipython",
    "version": 3
   },
   "file_extension": ".py",
   "mimetype": "text/x-python",
   "name": "python",
   "nbconvert_exporter": "python",
   "pygments_lexer": "ipython3",
   "version": "3.12.2"
  }
 },
 "nbformat": 4,
 "nbformat_minor": 5
}
